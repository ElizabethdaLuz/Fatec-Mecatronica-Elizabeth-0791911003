{
  "nbformat": 4,
  "nbformat_minor": 0,
  "metadata": {
    "colab": {
      "name": "Olá, este é o Colaboratory",
      "provenance": [],
      "collapsed_sections": [],
      "include_colab_link": true
    },
    "kernelspec": {
      "display_name": "Python 3",
      "name": "python3"
    }
  },
  "cells": [
    {
      "cell_type": "markdown",
      "metadata": {
        "id": "view-in-github",
        "colab_type": "text"
      },
      "source": [
        "<a href=\"https://colab.research.google.com/github/ElizabethdaLuz/Fatec-Mecatronica-Elizabeth-0791911003/blob/master/Ol%C3%A1%2C_este_%C3%A9_o_Colaboratory.ipynb\" target=\"_parent\"><img src=\"https://colab.research.google.com/assets/colab-badge.svg\" alt=\"Open In Colab\"/></a>"
      ]
    },
    {
      "cell_type": "markdown",
      "metadata": {
        "id": "HDQPBwR_4pWz"
      },
      "source": [
        "ATIVIDADE 1 "
      ]
    },
    {
      "cell_type": "markdown",
      "metadata": {
        "id": "12s1Xc5I40rJ"
      },
      "source": [
        "1. Desenvolva o programa para criar uma imagem a partir dos dados do usuário: largura, altura, cor em RGB.\n"
      ]
    },
    {
      "cell_type": "code",
      "metadata": {
        "id": "pC_lJYng5F0P"
      },
      "source": [
        "import cv2\n",
        "import numpy as np\n",
        "\n",
        "altura = input(\"Insira a altura: \")\n",
        "largura = input(\"Insira a largura:\" )\n",
        "\n",
        "while a < altura:\n",
        " lista.append(input(\"Digite o valor:\"))\n",
        "\n",
        "def gerar_matriz (altura, largura):\n",
        "    for i in range(altura):\n",
        "      for j in range(largura):\n",
        "        matriz.append( [\" \"] * largura )\n",
        "\n",
        "    return matriz\n",
        "\n",
        "\n"
      ],
      "execution_count": null,
      "outputs": []
    }
  ]
}